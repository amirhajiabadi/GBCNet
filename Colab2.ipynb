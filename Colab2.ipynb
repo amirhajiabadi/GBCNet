{
  "nbformat": 4,
  "nbformat_minor": 0,
  "metadata": {
    "colab": {
      "provenance": []
    },
    "kernelspec": {
      "name": "python3",
      "display_name": "Python 3"
    },
    "language_info": {
      "name": "python"
    }
  },
  "cells": [
    {
      "cell_type": "code",
      "execution_count": 1,
      "metadata": {
        "colab": {
          "base_uri": "https://localhost:8080/",
          "height": 1000
        },
        "id": "NKc_IZD5Ky-m",
        "outputId": "da5b9b8e-8c81-414e-c467-752c7cd3e7ac"
      },
      "outputs": [
        {
          "output_type": "stream",
          "name": "stdout",
          "text": [
            "Drive already mounted at /content/drive/; to attempt to forcibly remount, call drive.mount(\"/content/drive/\", force_remount=True).\n",
            "Epoch 1/20\n",
            "1/1 [==============================] - 18s 18s/step - loss: 1.1316 - val_loss: 0.2962\n",
            "Epoch 2/20\n",
            "1/1 [==============================] - 12s 12s/step - loss: 0.3148 - val_loss: 0.1606\n",
            "Epoch 3/20\n",
            "1/1 [==============================] - 11s 11s/step - loss: 0.1575 - val_loss: 0.1652\n",
            "Epoch 4/20\n",
            "1/1 [==============================] - 14s 14s/step - loss: 0.1719 - val_loss: 0.1225\n",
            "Epoch 5/20\n",
            "1/1 [==============================] - 23s 23s/step - loss: 0.1149 - val_loss: 0.1059\n",
            "Epoch 6/20\n",
            "1/1 [==============================] - 13s 13s/step - loss: 0.0986 - val_loss: 0.0969\n",
            "Epoch 7/20\n",
            "1/1 [==============================] - 10s 10s/step - loss: 0.0813 - val_loss: 0.0833\n",
            "Epoch 8/20\n",
            "1/1 [==============================] - 14s 14s/step - loss: 0.0636 - val_loss: 0.0821\n",
            "Epoch 9/20\n",
            "1/1 [==============================] - 12s 12s/step - loss: 0.0559 - val_loss: 0.0746\n",
            "Epoch 10/20\n",
            "1/1 [==============================] - 12s 12s/step - loss: 0.0501 - val_loss: 0.0672\n",
            "Epoch 11/20\n",
            "1/1 [==============================] - 13s 13s/step - loss: 0.0446 - val_loss: 0.0621\n",
            "Epoch 12/20\n",
            "1/1 [==============================] - 10s 10s/step - loss: 0.0385 - val_loss: 0.0593\n",
            "Epoch 13/20\n",
            "1/1 [==============================] - 13s 13s/step - loss: 0.0342 - val_loss: 0.0590\n",
            "Epoch 14/20\n",
            "1/1 [==============================] - 12s 12s/step - loss: 0.0292 - val_loss: 0.0577\n",
            "Epoch 15/20\n",
            "1/1 [==============================] - 12s 12s/step - loss: 0.0247 - val_loss: 0.0553\n",
            "Epoch 16/20\n",
            "1/1 [==============================] - 13s 13s/step - loss: 0.0253 - val_loss: 0.0531\n",
            "Epoch 17/20\n",
            "1/1 [==============================] - 10s 10s/step - loss: 0.0206 - val_loss: 0.0526\n",
            "Epoch 18/20\n",
            "1/1 [==============================] - 12s 12s/step - loss: 0.0184 - val_loss: 0.0516\n",
            "Epoch 19/20\n",
            "1/1 [==============================] - 12s 12s/step - loss: 0.0178 - val_loss: 0.0501\n",
            "Epoch 20/20\n",
            "1/1 [==============================] - 12s 12s/step - loss: 0.0150 - val_loss: 0.0496\n"
          ]
        },
        {
          "output_type": "display_data",
          "data": {
            "text/plain": [
              "<Figure size 640x480 with 1 Axes>"
            ],
            "image/png": "[encoded data removed]"
          },
          "metadata": {}
        }
      ],
      "source": [
        "from google.colab import drive\n",
        "\n",
        "drive.mount('/content/drive/')\n",
        "import sys\n",
        "sys.path.append('/content/drive/MyDrive/')\n",
        "\n",
        "import os\n",
        "import h5py\n",
        "from PIL import Image\n",
        "import numpy as np\n",
        "import cv2\n",
        "import matplotlib.pyplot as plt\n",
        "import tensorflow as tf\n",
        "from tensorflow.keras.preprocessing.image import load_img, img_to_array\n",
        "from sklearn.model_selection import train_test_split\n",
        "from keras.optimizers import Adam\n",
        "from sklearn.metrics import mean_absolute_error, mean_squared_error\n",
        "\n",
        "# Directory where the images and density maps are stored\n",
        "data_dir = \"/content/drive/MyDrive/grape\"\n",
        "\n",
        "# Get a list of filenames for the input images and density maps\n",
        "image_filenames = [os.path.join(data_dir, f) for f in os.listdir(data_dir) if f.endswith('.jpg')]\n",
        "density_map_filenames = [os.path.join(data_dir, f) for f in os.listdir(data_dir) if f.endswith('.h5')]\n",
        "\n",
        "# Load the images and their corresponding density maps\n",
        "images = []\n",
        "density_maps = []\n",
        "for image_filename, density_map_filename in zip(image_filenames, density_map_filenames):\n",
        "    # Load the image and resize to (224,224)\n",
        "    image = load_img(image_filename, target_size=(224, 224))\n",
        "    # Convert the image to a numpy array\n",
        "    x = img_to_array(image)\n",
        "    # Preprocess the input by subtracting the mean RGB pixel intensity of the ImageNet dataset\n",
        "    x = tf.keras.applications.vgg16.preprocess_input(x)\n",
        "    images.append(x)\n",
        "\n",
        "    # Load the density map and resize to (7,7,1)\n",
        "    with h5py.File(density_map_filename, 'r') as f:\n",
        "        density_map = np.array(f['density'])\n",
        "        density_map = cv2.resize(density_map, (7,7))\n",
        "        # Reshape density map to (7,7,1)\n",
        "        density_map = np.reshape(density_map, (7,7,1))\n",
        "        density_maps.append(density_map)\n",
        "\n",
        "features = np.array(images)\n",
        "target = np.array(density_maps)\n",
        "\n",
        "# Split the data into training and validation sets using the validation_split argument in the model.fit function\n",
        "X_train, X_val, y_train, y_val = train_test_split(features, target, test_size=0.2, random_state=42)\n",
        "\n",
        "# Convert X_train and y_train to float32\n",
        "X_train = X_train.astype('float32')\n",
        "y_train = y_train.astype('float32')\n",
        "\n",
        "# Reshape X_train and y_train to match the input and output shape of the model\n",
        "X_train = tf.reshape(X_train, (-1, X_train.shape[1], X_train.shape[2], 3))\n",
        "y_train = tf.reshape(y_train, (-1, y_train.shape[1], y_train.shape[2], 1))\n",
        "\n",
        "# Define the GBCNet model\n",
        "vgg = tf.keras.applications.vgg16.VGG16(weights='imagenet', include_top=False, input_shape=X_train[0].shape)\n",
        "\n",
        "for layer in vgg.layers:\n",
        "    layer.trainable = False\n",
        "\n",
        "input_layer = vgg.input\n",
        "block5_pool = vgg.get_layer('block5_pool').output\n",
        "\n",
        "conv1 = tf.keras.layers.Conv2D(512, (3,3), dilation_rate=(2,2), padding='same', activation='relu')(block5_pool)\n",
        "conv2 = tf.keras.layers.Conv2D(512, (3,3), dilation_rate=(2,2), padding='same', activation='relu')(conv1)\n",
        "conv3 = tf.keras.layers.Conv2D(512, (3,3), dilation_rate=(2,2),padding='same', activation='relu')(conv2)\n",
        "conv4 = tf.keras.layers.Conv2D(256, (3,3), dilation_rate=(2,2), padding='same', activation='relu')(conv3)\n",
        "conv5 = tf.keras.layers.Conv2D(128, (3,3), dilation_rate=(2,2), padding='same', activation='relu')(conv4)\n",
        "conv6 = tf.keras.layers.Conv2D(64, (3,3), dilation_rate=(2,2), padding='same', activation='relu')(conv5)\n",
        "conv7 = tf.keras.layers.Conv2D(1, (1,1), padding='same', activation='linear')(conv6)\n",
        "\n",
        "gbcnet = tf.keras.models.Model(inputs=input_layer, outputs=conv7)\n",
        "\n",
        "# Compile the model\n",
        "gbcnet.compile(loss='MAE', optimizer=Adam(learning_rate=1e-4))\n",
        "\n",
        "# Train the model\n",
        "history = gbcnet.fit(X_train, y_train, validation_data=(X_val, y_val), epochs=20, batch_size=16, verbose=1)\n",
        "\n",
        "# Plot the loss and validation loss\n",
        "plt.plot(history.history['loss'], label='training loss')\n",
        "plt.plot(history.history['val_loss'], label='validation loss')\n",
        "plt.xlabel('epoch')\n",
        "plt.ylabel('loss')\n",
        "plt.legend()\n",
        "plt.show()"
      ]
    },
    {
      "cell_type": "code",
      "source": [
        "# Evaluate the model on the training set\n",
        "y_train_pred = gbcnet.predict(X_train)\n",
        "\n",
        "# Reshape a 4D array to a 2D array\n",
        "y_train_2d = np.reshape(y_train, (-1,))\n",
        "y_train_pred_2d = np.reshape(y_train_pred, (-1,))\n",
        "\n",
        "# Compute mean squared error and mean absolute error on the training set\n",
        "mse_train = mean_squared_error(y_train_2d, y_train_pred_2d)\n",
        "mae_train = mean_absolute_error(y_train_2d, y_train_pred_2d)\n",
        "\n",
        "# Print the results on the training set\n",
        "print(\"Mean Absolute Error on training set: {:.5f}\".format(mae_train))\n",
        "print(\"Mean Squared Error on training set: {:.5f}\".format(mse_train))\n",
        "\n",
        "# Evaluate the model on the validation set\n",
        "y_val_pred = gbcnet.predict(X_val)\n",
        "\n",
        "# Reshape a 4D array to a 2D array\n",
        "y_val_2d = np.reshape(y_val, (-1,))\n",
        "y_val_pred_2d = np.reshape(y_val_pred, (-1,))\n",
        "\n",
        "# Compute mean squared error and mean absolute error on the validation set\n",
        "mse_val = mean_squared_error(y_val_2d, y_val_pred_2d)\n",
        "mae_val = mean_absolute_error(y_val_2d, y_val_pred_2d)\n",
        "\n",
        "# Print the results on the validation set\n",
        "print(\"Mean Absolute Error on validation set: {:.5f}\".format(mae_val))\n",
        "print(\"Mean Squared Error on validation set: {:.5f}\".format(mse_val))\n"
      ],
      "metadata": {
        "colab": {
          "base_uri": "https://localhost:8080/"
        },
        "id": "g1ekdqC4ez3l",
        "outputId": "337be66b-cae8-4ba4-cbf7-7979f897c2c0"
      },
      "execution_count": 2,
      "outputs": [
        {
          "output_type": "stream",
          "name": "stdout",
          "text": [
            "1/1 [==============================] - 9s 9s/step\n",
            "Mean Absolute Error on training set: 0.01408\n",
            "Mean Squared Error on training set: 0.00037\n",
            "1/1 [==============================] - 2s 2s/step\n",
            "Mean Absolute Error on validation set: 0.04958\n",
            "Mean Squared Error on validation set: 0.00379\n"
          ]
        }
      ]
    }
  ]
}