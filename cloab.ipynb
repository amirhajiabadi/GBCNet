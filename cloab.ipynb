{
  "nbformat": 4,
  "nbformat_minor": 0,
  "metadata": {
    "colab": {
      "provenance": []
    },
    "kernelspec": {
      "name": "python3",
      "display_name": "Python 3"
    },
    "language_info": {
      "name": "python"
    }
  },
  "cells": [
    {
      "cell_type": "code",
      "execution_count": 1,
      "metadata": {
        "colab": {
          "base_uri": "https://localhost:8080/"
        },
        "id": "JRufB7wzskD2",
        "outputId": "a8cdb16c-d8f2-461c-ab69-acdf139cac38"
      },
      "outputs": [
        {
          "output_type": "stream",
          "name": "stdout",
          "text": [
            "Drive already mounted at /content/drive/; to attempt to forcibly remount, call drive.mount(\"/content/drive/\", force_remount=True).\n"
          ]
        }
      ],
      "source": [
        "from google.colab import drive\n",
        "drive.mount('/content/drive/')\n",
        "import sys\n",
        "sys.path.append('/content/drive/MyDrive/')"
      ]
    },
    {
      "cell_type": "code",
      "source": [
        "import os\n",
        "import h5py\n",
        "from PIL import Image\n",
        "import numpy as np\n",
        "import cv2\n",
        "import matplotlib.pyplot as plt\n",
        "import numpy as np\n",
        "import tensorflow as tf\n",
        "from tensorflow.keras.preprocessing import image\n",
        "from tensorflow.keras.preprocessing.image import img_to_array\n",
        "\n",
        "\n",
        "# Directory where the images and density maps are stored\n",
        "data_dir = \"/content/drive/MyDrive/grape\"\n",
        "\n",
        "# Get a list of filenames for the input images and density maps\n",
        "image_filenames = [os.path.join(data_dir, f) for f in os.listdir(data_dir) if f.endswith('.jpg')]\n",
        "density_map_filenames = [os.path.join(data_dir, f) for f in os.listdir(data_dir) if f.endswith('.h5')]\n",
        "\n",
        "# Load the images and their corresponding density maps\n",
        "images = []\n",
        "density_maps = []\n",
        "for image_filename, density_map_filename in zip(image_filenames, density_map_filenames):\n",
        "    # Load the image and resize to (224,224)\n",
        "    image = Image.open(image_filename)\n",
        "    image = image.convert('RGB')\n",
        "    image = image.resize((224,224))\n",
        "    \n",
        "    # Convert the image to a numpy array\n",
        "    x = img_to_array(image)\n",
        "    # Preprocess the input by subtracting the mean RGB pixel intensity of the ImageNet dataset\n",
        "    x = tf.keras.applications.vgg16.preprocess_input(x)\n",
        "    images.append(x)\n",
        "\n",
        "    # Load the density map and resize to (7,7,1)\n",
        "    with h5py.File(density_map_filename, 'r') as f:\n",
        "        density_map = np.array(f['density'])\n",
        "        density_map = Image.fromarray(density_map)\n",
        "        # Resize density map to (7,7)\n",
        "        density_map = np.array(density_map)\n",
        "        density_map = cv2.resize(density_map, (7,7))\n",
        "        # Reshape density map to (7,7,1)\n",
        "        density_map = np.reshape(density_map, (7,7,1))\n",
        "        #density_map = np.array(density_map)\n",
        "        density_maps.append(density_map)\n"
      ],
      "metadata": {
        "id": "1pNlxQiLslW-"
      },
      "execution_count": 2,
      "outputs": []
    },
    {
      "cell_type": "code",
      "source": [
        "features=np.array(images)\n",
        "target=np.array(density_maps)"
      ],
      "metadata": {
        "id": "d3fhqS1osv1y"
      },
      "execution_count": 3,
      "outputs": []
    },
    {
      "cell_type": "code",
      "source": [
        "features_float = features.astype('float32') # convert to float32\n",
        "target_float = target.astype('float32') # convert to float32"
      ],
      "metadata": {
        "id": "eI413pqSs0fs"
      },
      "execution_count": 4,
      "outputs": []
    },
    {
      "cell_type": "code",
      "source": [
        "from sklearn.model_selection import train_test_split\n",
        "\n",
        "# Split the data into training, validation, and testing sets\n",
        "X_train, X_test, y_train, y_test = train_test_split(features_float,target_float, test_size=0.2, random_state=42)\n",
        "\n",
        "# Print the sizes of the resulting arrays\n",
        "# print(\"X_train shape:\", X_train.shape)\n",
        "# print(\"y_train shape:\", y_train.shape)\n",
        "# print(\"X_test shape:\", X_test.shape)\n",
        "# print(\"y_test shape:\", y_test.shape)\n"
      ],
      "metadata": {
        "id": "WWPcF2X1s17t"
      },
      "execution_count": 5,
      "outputs": []
    },
    {
      "cell_type": "code",
      "source": [
        "import tensorflow as tf\n",
        "from tensorflow.keras.applications.vgg16 import VGG16\n",
        "from tensorflow.keras.layers import Conv2D, Conv2DTranspose, Dense, Input, concatenate\n",
        "from tensorflow.keras.models import Model\n",
        "from tensorflow.keras.optimizers import Adam\n",
        "from sklearn.metrics import mean_absolute_error, mean_squared_error"
      ],
      "metadata": {
        "id": "A81034--s3SM"
      },
      "execution_count": 6,
      "outputs": []
    },
    {
      "cell_type": "code",
      "source": [
        "import tensorflow as tf\n",
        "from keras.layers import Input, Conv2D, MaxPooling2D, UpSampling2D, Reshape, Activation\n",
        "from keras.applications.vgg16 import VGG16\n",
        "from keras.models import Model\n",
        "from keras.optimizers import Adam\n",
        "\n",
        "# Reshape X_train and y_train to match the input and output shape of the model\n",
        "X_train = tf.reshape(X_train, (-1, X_train.shape[1], X_train.shape[2], 3))\n",
        "y_train = tf.reshape(y_train, (-1, y_train.shape[1], y_train.shape[2], 1))\n",
        "\n",
        "# Define the GBCNet model\n",
        "vgg = VGG16(weights='imagenet', include_top=False, input_shape=X_train[0].shape)\n",
        "\n",
        "for layer in vgg.layers:\n",
        "    layer.trainable = False\n",
        "\n",
        "input_layer = vgg.input\n",
        "block5_pool = vgg.get_layer('block5_pool').output\n",
        "\n",
        "conv1 = Conv2D(512, (3,3), dilation_rate=(2,2), padding='same', activation='relu')(block5_pool)\n",
        "conv2 = Conv2D(512, (3,3), dilation_rate=(2,2), padding='same', activation='relu')(conv1)\n",
        "conv3 = Conv2D(512, (3,3), dilation_rate=(2,2), padding='same', activation='relu')(conv2)\n",
        "conv4 = Conv2D(256, (3,3), dilation_rate=(2,2), padding='same', activation='relu')(conv3)\n",
        "conv5 = Conv2D(128, (3,3), dilation_rate=(2,2), padding='same', activation='relu')(conv4)\n",
        "conv6 = Conv2D(64, (3,3), dilation_rate=(2,2), padding='same', activation='relu')(conv5)\n",
        "conv7 = Conv2D(1, (3,3), dilation_rate=(2,2), padding='same', activation='sigmoid')(conv6)\n",
        "\n",
        "# Remove the UpSampling2D layer and the second Activation layer, and add a Reshape layer to reshape the output to (7,7,1)\n",
        "output = Reshape((7,7,1))(conv7)\n",
        "\n",
        "model = Model(inputs=input_layer, outputs=output)\n",
        "\n",
        "# Compile and train the model\n",
        "model.compile(loss='MSE', optimizer=Adam(learning_rate=1e-4))\n",
        "\n",
        "model.fit(X_train, y_train, batch_size=16, epochs=10)\n"
      ],
      "metadata": {
        "colab": {
          "base_uri": "https://localhost:8080/"
        },
        "id": "2qnFtFEus4eV",
        "outputId": "7ee0dd74-73d5-487c-95c9-6933bb43fa87"
      },
      "execution_count": 7,
      "outputs": [
        {
          "output_type": "stream",
          "name": "stdout",
          "text": [
            "Epoch 1/10\n",
            "1/1 [==============================] - 10s 10s/step - loss: 0.2471\n",
            "Epoch 2/10\n",
            "1/1 [==============================] - 10s 10s/step - loss: 0.0562\n",
            "Epoch 3/10\n",
            "1/1 [==============================] - 8s 8s/step - loss: 0.0139\n",
            "Epoch 4/10\n",
            "1/1 [==============================] - 15s 15s/step - loss: 0.0026\n",
            "Epoch 5/10\n",
            "1/1 [==============================] - 14s 14s/step - loss: 3.8380e-04\n",
            "Epoch 6/10\n",
            "1/1 [==============================] - 10s 10s/step - loss: 5.5069e-05\n",
            "Epoch 7/10\n",
            "1/1 [==============================] - 8s 8s/step - loss: 9.9692e-06\n",
            "Epoch 8/10\n",
            "1/1 [==============================] - 11s 11s/step - loss: 3.8431e-06\n",
            "Epoch 9/10\n",
            "1/1 [==============================] - 10s 10s/step - loss: 2.9964e-06\n",
            "Epoch 10/10\n",
            "1/1 [==============================] - 8s 8s/step - loss: 2.8793e-06\n"
          ]
        },
        {
          "output_type": "execute_result",
          "data": {
            "text/plain": [
              "<keras.callbacks.History at 0x7f4070d0fb80>"
            ]
          },
          "metadata": {},
          "execution_count": 7
        }
      ]
    },
    {
      "cell_type": "code",
      "source": [
        "# Evaluate the model\n",
        "y_pred = model.predict(X_test)\n",
        "y_pred = np.reshape(y_pred, (4, 7, 7))\n",
        "\n",
        "y_test = y_test.reshape((y_test.shape[0], -1))\n",
        "\n",
        "mae = mean_absolute_error(y_test, y_pred.reshape((y_pred.shape[0], -1)))\n",
        "mse = mean_squared_error(y_test, y_pred.reshape((y_pred.shape[0], -1)))\n",
        "\n",
        "print(\"Mean Absolute Error: \", mae)\n",
        "print(\"Mean Squared Error: \", mse)"
      ],
      "metadata": {
        "colab": {
          "base_uri": "https://localhost:8080/"
        },
        "id": "D1lzmSrIwPN7",
        "outputId": "a210bdca-cf30-4fff-c323-164784dd13e3"
      },
      "execution_count": 8,
      "outputs": [
        {
          "output_type": "stream",
          "name": "stdout",
          "text": [
            "1/1 [==============================] - 4s 4s/step\n",
            "Mean Absolute Error:  0.00059596193\n",
            "Mean Squared Error:  3.1300915e-06\n"
          ]
        }
      ]
    }
  ]
}